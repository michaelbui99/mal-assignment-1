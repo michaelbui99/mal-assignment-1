{
 "cells": [
  {
   "cell_type": "markdown",
   "metadata": {},
   "source": [
    "## 1. Getting Started: Airbnb Copenhagen"
   ]
  },
  {
   "cell_type": "markdown",
   "metadata": {},
   "source": [
    "This assignment deals with the most recent Airbnb listings in Copenhagen. The data is collected from [Inside Airbnb](http://insideairbnb.com/copenhagen). Feel free to explore the website further in order to better understand the data. The data (*listings.csv*) has been collected as raw data and needs to be preprocessed.\n",
    "\n",
    "**Hand-in:** Hand in as a group in Itslearning in a **single**, well-organized and easy-to-read Jupyter Notebook. If your group consists of students from different classes, upload in **both** classes.\n",
    "\n",
    "1. First we need to remove all the redundant columns. Please keep the following 22 columns and remove all others:\n",
    "\n",
    "    id\\\n",
    "    name  \n",
    "    host_id  \n",
    "    host_name  \n",
    "    neighbourhood_cleansed  \n",
    "    latitude  \n",
    "    longitude  \n",
    "    room_type  \n",
    "    price  \n",
    "    minimum_nights  \n",
    "    number_of_reviews  \n",
    "    last_review  \n",
    "    review_scores_rating  \n",
    "    review_scores_accuracy  \n",
    "    review_scores_cleanliness  \n",
    "    review_scores_checkin  \n",
    "    review_scores_communication  \n",
    "    review_scores_location  \n",
    "    review_scores_value  \n",
    "    reviews_per_month  \n",
    "    calculated_host_listings_count  \n",
    "    availability_365\n",
    "\n",
    "\n",
    "\n",
    "2. Next we have to handle missing values. Remove all rows where `number_of_reviews = 0`. If there are still missing values, remove the rows that contain them so you have a data set with no missing values.\n",
    "\n",
    "3. Fix the `neighbourhood_cleansed` values (some are missing 'æ ø å'), and if necessary change the price to DKK.\n",
    "\n",
    "4. Create a fitting word cloud based on the `name` column. Feel free to remove non-descriptive stop words (e.g. since this is about Copenhagen, perhaps the word 'Copenhagen' is redundant).\n",
    "\n",
    "5. Since data science is so much fun, provide a word cloud of the names of the hosts, removing any names of non-persons. Does this more or less correspond with the distribution of names according to [Danmarks Statistik](https://www.dst.dk/da/Statistik/emner/borgere/navne/navne-i-hele-befolkningen)?\n",
    "\n",
    "6. Create a new column using bins of price. Use 11 bins, evenly distributed but with the last bin $> 10,000$.\n",
    "\n",
    "7. Using non-scaled versions of latitude and longitude, plot the listings data on a map. Use the newly created price bins as a color parameter. Also, create a plot (i.e. another plot) where you group the listings with regard to the neighbourhood.\n",
    "\n",
    "8. Create boxplots where you have the neighbourhood on the x-axis and price on the y-axis. What does this tell you about the listings in Copenhagen? Keep the x-axis as is and move different variables into the y-axis to see how things are distributed between the neighborhoods to create different plots (your choice).\n",
    "\n",
    "9. Create a bar chart of the hosts with the top ten most listings. Place host id on the x-axis and the count of listings on the y-axis.\n",
    "\n",
    "10. Do a descriptive analysis of the neighborhoods. Include information about room type in the analysis as well as one other self-chosen feature. The descriptive analysis should contain mean/average, mode, median, standard deviation/variance, minimum, maximum and quartiles.\n",
    "\n",
    "11. Supply a list of the top 10 highest rated listings and visualize them on a map.\n",
    "\n",
    "12. Now, use any preprocessing and feature engineering steps that you find relevant before proceeding (optional).\n",
    "\n",
    "13. Create another new column, where the price is divided into two categories: \"expensive\" listings defined by all listings with a price higher than the median price, and \"affordable\" listings defined by all listings with a price equal to or below the median price. You can encode the affordable listings as \"0\" and the expensive ones as \"1\". All listings should now have a classification indicating either expensive listings (1) or affordable listings (0).\n",
    "\n",
    "14. Based on self-chosen features, develop a Naïve Bayes and k-Nearest Neighbor model to determine whether a rental property should be classified as 0 or 1. Remember to divide your data into training data and test data. Comment on your findings.\n",
    "\n",
    "15. Try to come up with a final conclusion to the Airbnb-Copenhagen assignment.\n"
   ]
  }
 ],
 "metadata": {
  "kernelspec": {
   "display_name": "Python 3",
   "language": "python",
   "name": "python3"
  },
  "language_info": {
   "name": "python",
   "version": "3.11.1"
  },
  "orig_nbformat": 4
 },
 "nbformat": 4,
 "nbformat_minor": 2
}
